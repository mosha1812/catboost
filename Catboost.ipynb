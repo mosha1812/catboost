{
 "cells": [
  {
   "cell_type": "markdown",
   "id": "0ecc9708",
   "metadata": {},
   "source": [
    "# Gradient Boosting with CatBoost\n",
    "\n",
    "we will use dataset Amazon Employee Access Challenge from Kaggle competition for our experiments. [Here](https://www.kaggle.com/c/amazon-employee-access-challenge/data) is the link to the challenge, that we will be exploring."
   ]
  },
  {
   "cell_type": "markdown",
   "id": "ccb38083",
   "metadata": {},
   "source": [
    "### Importing Libraries"
   ]
  },
  {
   "cell_type": "code",
   "execution_count": 3,
   "id": "e6b545c6",
   "metadata": {},
   "outputs": [],
   "source": [
    "import os\n",
    "import pandas as pd\n",
    "import numpy as np\n",
    "import catboost"
   ]
  },
  {
   "cell_type": "code",
   "execution_count": 4,
   "id": "6316f7e7",
   "metadata": {},
   "outputs": [],
   "source": [
    "np.set_printoptions(precision=4)"
   ]
  },
  {
   "cell_type": "code",
   "execution_count": 5,
   "id": "a231c0ac",
   "metadata": {},
   "outputs": [],
   "source": [
    "## Reading the data\n",
    "\n",
    "from catboost.datasets import amazon"
   ]
  },
  {
   "cell_type": "code",
   "execution_count": 6,
   "id": "61aa6ef2",
   "metadata": {},
   "outputs": [],
   "source": [
    "# If you have \"URLError: SSL: CERTIFICATE_VERIFY_FAILED\" uncomment next two lines:\n",
    "# import ssl\n",
    "# ssl._create_default_https_context = ssl._create_unverified_context\n",
    "\n",
    "# If you have any other error:\n",
    "# Download datasets from http://bit.ly/2ZUXTSv and uncomment next line:\n",
    "# train_df = pd.read_csv('train.csv', sep=',', header='infer')"
   ]
  },
  {
   "cell_type": "code",
   "execution_count": 8,
   "id": "bd680b70",
   "metadata": {},
   "outputs": [],
   "source": [
    "train_df, test_df = amazon()"
   ]
  },
  {
   "cell_type": "code",
   "execution_count": 9,
   "id": "3b376a5c",
   "metadata": {},
   "outputs": [
    {
     "data": {
      "text/html": [
       "<div>\n",
       "<style scoped>\n",
       "    .dataframe tbody tr th:only-of-type {\n",
       "        vertical-align: middle;\n",
       "    }\n",
       "\n",
       "    .dataframe tbody tr th {\n",
       "        vertical-align: top;\n",
       "    }\n",
       "\n",
       "    .dataframe thead th {\n",
       "        text-align: right;\n",
       "    }\n",
       "</style>\n",
       "<table border=\"1\" class=\"dataframe\">\n",
       "  <thead>\n",
       "    <tr style=\"text-align: right;\">\n",
       "      <th></th>\n",
       "      <th>ACTION</th>\n",
       "      <th>RESOURCE</th>\n",
       "      <th>MGR_ID</th>\n",
       "      <th>ROLE_ROLLUP_1</th>\n",
       "      <th>ROLE_ROLLUP_2</th>\n",
       "      <th>ROLE_DEPTNAME</th>\n",
       "      <th>ROLE_TITLE</th>\n",
       "      <th>ROLE_FAMILY_DESC</th>\n",
       "      <th>ROLE_FAMILY</th>\n",
       "      <th>ROLE_CODE</th>\n",
       "    </tr>\n",
       "  </thead>\n",
       "  <tbody>\n",
       "    <tr>\n",
       "      <th>0</th>\n",
       "      <td>1</td>\n",
       "      <td>39353</td>\n",
       "      <td>85475</td>\n",
       "      <td>117961</td>\n",
       "      <td>118300</td>\n",
       "      <td>123472</td>\n",
       "      <td>117905</td>\n",
       "      <td>117906</td>\n",
       "      <td>290919</td>\n",
       "      <td>117908</td>\n",
       "    </tr>\n",
       "    <tr>\n",
       "      <th>1</th>\n",
       "      <td>1</td>\n",
       "      <td>17183</td>\n",
       "      <td>1540</td>\n",
       "      <td>117961</td>\n",
       "      <td>118343</td>\n",
       "      <td>123125</td>\n",
       "      <td>118536</td>\n",
       "      <td>118536</td>\n",
       "      <td>308574</td>\n",
       "      <td>118539</td>\n",
       "    </tr>\n",
       "    <tr>\n",
       "      <th>2</th>\n",
       "      <td>1</td>\n",
       "      <td>36724</td>\n",
       "      <td>14457</td>\n",
       "      <td>118219</td>\n",
       "      <td>118220</td>\n",
       "      <td>117884</td>\n",
       "      <td>117879</td>\n",
       "      <td>267952</td>\n",
       "      <td>19721</td>\n",
       "      <td>117880</td>\n",
       "    </tr>\n",
       "    <tr>\n",
       "      <th>3</th>\n",
       "      <td>1</td>\n",
       "      <td>36135</td>\n",
       "      <td>5396</td>\n",
       "      <td>117961</td>\n",
       "      <td>118343</td>\n",
       "      <td>119993</td>\n",
       "      <td>118321</td>\n",
       "      <td>240983</td>\n",
       "      <td>290919</td>\n",
       "      <td>118322</td>\n",
       "    </tr>\n",
       "    <tr>\n",
       "      <th>4</th>\n",
       "      <td>1</td>\n",
       "      <td>42680</td>\n",
       "      <td>5905</td>\n",
       "      <td>117929</td>\n",
       "      <td>117930</td>\n",
       "      <td>119569</td>\n",
       "      <td>119323</td>\n",
       "      <td>123932</td>\n",
       "      <td>19793</td>\n",
       "      <td>119325</td>\n",
       "    </tr>\n",
       "  </tbody>\n",
       "</table>\n",
       "</div>"
      ],
      "text/plain": [
       "   ACTION  RESOURCE  MGR_ID  ROLE_ROLLUP_1  ROLE_ROLLUP_2  ROLE_DEPTNAME  \\\n",
       "0       1     39353   85475         117961         118300         123472   \n",
       "1       1     17183    1540         117961         118343         123125   \n",
       "2       1     36724   14457         118219         118220         117884   \n",
       "3       1     36135    5396         117961         118343         119993   \n",
       "4       1     42680    5905         117929         117930         119569   \n",
       "\n",
       "   ROLE_TITLE  ROLE_FAMILY_DESC  ROLE_FAMILY  ROLE_CODE  \n",
       "0      117905            117906       290919     117908  \n",
       "1      118536            118536       308574     118539  \n",
       "2      117879            267952        19721     117880  \n",
       "3      118321            240983       290919     118322  \n",
       "4      119323            123932        19793     119325  "
      ]
     },
     "execution_count": 9,
     "metadata": {},
     "output_type": "execute_result"
    }
   ],
   "source": [
    "train_df.head()"
   ]
  },
  {
   "cell_type": "code",
   "execution_count": 12,
   "id": "f6c26df6",
   "metadata": {},
   "outputs": [
    {
     "name": "stdout",
     "output_type": "stream",
     "text": [
      "<class 'pandas.core.frame.DataFrame'>\n",
      "RangeIndex: 32769 entries, 0 to 32768\n",
      "Data columns (total 10 columns):\n",
      " #   Column            Non-Null Count  Dtype\n",
      "---  ------            --------------  -----\n",
      " 0   ACTION            32769 non-null  int64\n",
      " 1   RESOURCE          32769 non-null  int64\n",
      " 2   MGR_ID            32769 non-null  int64\n",
      " 3   ROLE_ROLLUP_1     32769 non-null  int64\n",
      " 4   ROLE_ROLLUP_2     32769 non-null  int64\n",
      " 5   ROLE_DEPTNAME     32769 non-null  int64\n",
      " 6   ROLE_TITLE        32769 non-null  int64\n",
      " 7   ROLE_FAMILY_DESC  32769 non-null  int64\n",
      " 8   ROLE_FAMILY       32769 non-null  int64\n",
      " 9   ROLE_CODE         32769 non-null  int64\n",
      "dtypes: int64(10)\n",
      "memory usage: 2.5 MB\n"
     ]
    }
   ],
   "source": [
    "train_df.info()"
   ]
  },
  {
   "cell_type": "code",
   "execution_count": 14,
   "id": "d1cedf48",
   "metadata": {},
   "outputs": [
    {
     "data": {
      "text/plain": [
       "ACTION                 2\n",
       "RESOURCE            7518\n",
       "MGR_ID              4243\n",
       "ROLE_ROLLUP_1        128\n",
       "ROLE_ROLLUP_2        177\n",
       "ROLE_DEPTNAME        449\n",
       "ROLE_TITLE           343\n",
       "ROLE_FAMILY_DESC    2358\n",
       "ROLE_FAMILY           67\n",
       "ROLE_CODE            343\n",
       "dtype: int64"
      ]
     },
     "execution_count": 14,
     "metadata": {},
     "output_type": "execute_result"
    }
   ],
   "source": [
    "train_df.nunique()"
   ]
  },
  {
   "cell_type": "code",
   "execution_count": 18,
   "id": "f31b7360",
   "metadata": {},
   "outputs": [
    {
     "data": {
      "text/plain": [
       "1    30872\n",
       "0     1897\n",
       "Name: ACTION, dtype: int64"
      ]
     },
     "execution_count": 18,
     "metadata": {},
     "output_type": "execute_result"
    }
   ],
   "source": [
    "### Looking on label balance in dataset\n",
    "train_df['ACTION'].value_counts()"
   ]
  },
  {
   "cell_type": "code",
   "execution_count": 11,
   "id": "3435b4a7",
   "metadata": {},
   "outputs": [],
   "source": [
    "### Label values extraction\n",
    "X = train_df.drop('ACTION', axis=1)\n",
    "y = train_df['ACTION']"
   ]
  },
  {
   "cell_type": "code",
   "execution_count": 15,
   "id": "fc164818",
   "metadata": {},
   "outputs": [
    {
     "name": "stdout",
     "output_type": "stream",
     "text": [
      "[0, 1, 2, 3, 4, 5, 6, 7, 8]\n"
     ]
    }
   ],
   "source": [
    "### Categorical features declaration\n",
    "cat_features = list(range(0, X.shape[1]))\n",
    "print(cat_features)"
   ]
  },
  {
   "cell_type": "code",
   "execution_count": 20,
   "id": "a043b5de",
   "metadata": {},
   "outputs": [
    {
     "name": "stdout",
     "output_type": "stream",
     "text": [
      "Learning rate set to 0.045713\n",
      "0:\tlearn: 0.6395568\ttotal: 45.2ms\tremaining: 45.2s\n",
      "100:\tlearn: 0.1533699\ttotal: 8.54s\tremaining: 1m 15s\n",
      "200:\tlearn: 0.1458670\ttotal: 19s\tremaining: 1m 15s\n",
      "300:\tlearn: 0.1420300\ttotal: 29.3s\tremaining: 1m 8s\n",
      "400:\tlearn: 0.1382725\ttotal: 39.9s\tremaining: 59.6s\n",
      "500:\tlearn: 0.1349133\ttotal: 50.7s\tremaining: 50.5s\n",
      "600:\tlearn: 0.1319057\ttotal: 1m 1s\tremaining: 40.6s\n",
      "700:\tlearn: 0.1292087\ttotal: 1m 11s\tremaining: 30.6s\n",
      "800:\tlearn: 0.1262376\ttotal: 1m 22s\tremaining: 20.5s\n",
      "900:\tlearn: 0.1237563\ttotal: 1m 33s\tremaining: 10.2s\n",
      "999:\tlearn: 0.1212572\ttotal: 1m 43s\tremaining: 0us\n"
     ]
    },
    {
     "data": {
      "text/plain": [
       "<catboost.core.CatBoostClassifier at 0x28cfb16d720>"
      ]
     },
     "execution_count": 20,
     "metadata": {},
     "output_type": "execute_result"
    }
   ],
   "source": [
    "### Training first simple catboost model\n",
    "from catboost import CatBoostClassifier\n",
    "\n",
    "model = CatBoostClassifier()\n",
    "model.fit(X, y, cat_features=cat_features, verbose=100)"
   ]
  },
  {
   "cell_type": "code",
   "execution_count": 21,
   "id": "0bcd87ef",
   "metadata": {},
   "outputs": [
    {
     "data": {
      "text/plain": [
       "array([[0.0018, 0.9982],\n",
       "       [0.0079, 0.9921],\n",
       "       [0.0212, 0.9788],\n",
       "       ...,\n",
       "       [0.0065, 0.9935],\n",
       "       [0.0276, 0.9724],\n",
       "       [0.0187, 0.9813]])"
      ]
     },
     "execution_count": 21,
     "metadata": {},
     "output_type": "execute_result"
    }
   ],
   "source": [
    "### prediction on X data points\n",
    "model.predict_proba(X)"
   ]
  },
  {
   "cell_type": "markdown",
   "id": "f78e8f50",
   "metadata": {},
   "source": [
    "### Pool \n",
    "\n",
    "Pool class is used for storing the dataset. You can use Pool class if the dataset has more than just X and y (for example, it has sample weights or groups) or if the dataset is large and it takes long time to read it into python.\n"
   ]
  },
  {
   "cell_type": "code",
   "execution_count": 23,
   "id": "817be85b",
   "metadata": {},
   "outputs": [],
   "source": [
    "from catboost import Pool\n",
    "from sklearn.model_selection import train_test_split"
   ]
  },
  {
   "cell_type": "code",
   "execution_count": 24,
   "id": "d20e4a79",
   "metadata": {},
   "outputs": [],
   "source": [
    "X_train, X_test, y_train, y_test = train_test_split(X, y, test_size=0.2, random_state=32)\n",
    "\n",
    "train_pool = Pool(\n",
    "    data = X_train, \n",
    "    label = y_train, \n",
    "    cat_features = cat_features\n",
    ")\n",
    "\n",
    "validation_pool = Pool(\n",
    "    data = X_test,\n",
    "    label = y_test,\n",
    "    cat_features = cat_features\n",
    ")"
   ]
  },
  {
   "cell_type": "markdown",
   "id": "35f7d288",
   "metadata": {},
   "source": [
    "### Selecting the objective function:\n",
    "\n",
    "Possible options for binary classification:\n",
    "\n",
    "    Logloss for binary target.\n",
    "    CrossEntropy for probabilities in target."
   ]
  },
  {
   "cell_type": "code",
   "execution_count": 25,
   "id": "20a18798",
   "metadata": {},
   "outputs": [
    {
     "name": "stdout",
     "output_type": "stream",
     "text": [
      "Model is fitted: True\n",
      "Model params:\n",
      "{'iterations': 5, 'learning_rate': 0.1}\n"
     ]
    }
   ],
   "source": [
    "model = CatBoostClassifier(\n",
    "    iterations=5,\n",
    "    learning_rate=0.1,\n",
    "    # loss_function='CrossEntropy' # default is Logloss\n",
    ")\n",
    "\n",
    "model.fit(train_pool, eval_set=validation_pool, verbose=False)\n",
    "\n",
    "print('Model is fitted: {}'.format(model.is_fitted()))\n",
    "print('Model params:\\n{}'.format(model.get_params()))"
   ]
  },
  {
   "cell_type": "markdown",
   "id": "d3b7045d",
   "metadata": {},
   "source": [
    "### Stdout of the training\n",
    "\n",
    "If verbose is not defined it will fill the O/P with stdout of each iteration."
   ]
  },
  {
   "cell_type": "code",
   "execution_count": 28,
   "id": "48df08a6",
   "metadata": {},
   "outputs": [
    {
     "name": "stdout",
     "output_type": "stream",
     "text": [
      "Learning rate set to 0.441257\n",
      "0:\tlearn: 0.4209313\ttest: 0.4251782\tbest: 0.4251782 (0)\ttotal: 22.1ms\tremaining: 310ms\n",
      "1:\tlearn: 0.3130459\ttest: 0.3198648\tbest: 0.3198648 (1)\ttotal: 58ms\tremaining: 377ms\n",
      "2:\tlearn: 0.2598816\ttest: 0.2695196\tbest: 0.2695196 (2)\ttotal: 85.5ms\tremaining: 342ms\n",
      "3:\tlearn: 0.2300876\ttest: 0.2405125\tbest: 0.2405125 (3)\ttotal: 107ms\tremaining: 295ms\n",
      "4:\tlearn: 0.2057619\ttest: 0.2147731\tbest: 0.2147731 (4)\ttotal: 139ms\tremaining: 277ms\n",
      "5:\tlearn: 0.1925296\ttest: 0.2000481\tbest: 0.2000481 (5)\ttotal: 174ms\tremaining: 261ms\n",
      "6:\tlearn: 0.1859953\ttest: 0.1938409\tbest: 0.1938409 (6)\ttotal: 225ms\tremaining: 257ms\n",
      "7:\tlearn: 0.1808949\ttest: 0.1884482\tbest: 0.1884482 (7)\ttotal: 265ms\tremaining: 232ms\n",
      "8:\tlearn: 0.1770093\ttest: 0.1836724\tbest: 0.1836724 (8)\ttotal: 309ms\tremaining: 206ms\n",
      "9:\tlearn: 0.1737641\ttest: 0.1797508\tbest: 0.1797508 (9)\ttotal: 337ms\tremaining: 169ms\n",
      "10:\tlearn: 0.1731531\ttest: 0.1797895\tbest: 0.1797508 (9)\ttotal: 364ms\tremaining: 132ms\n",
      "11:\tlearn: 0.1727161\ttest: 0.1791225\tbest: 0.1791225 (11)\ttotal: 396ms\tremaining: 98.9ms\n",
      "12:\tlearn: 0.1722512\ttest: 0.1788052\tbest: 0.1788052 (12)\ttotal: 428ms\tremaining: 65.8ms\n",
      "13:\tlearn: 0.1716703\ttest: 0.1781983\tbest: 0.1781983 (13)\ttotal: 458ms\tremaining: 32.7ms\n",
      "14:\tlearn: 0.1704582\ttest: 0.1767666\tbest: 0.1767666 (14)\ttotal: 485ms\tremaining: 0us\n",
      "\n",
      "bestTest = 0.1767666293\n",
      "bestIteration = 14\n",
      "\n"
     ]
    }
   ],
   "source": [
    "model = CatBoostClassifier(\n",
    "    iterations=15,\n",
    "    #verbose=5,\n",
    ")\n",
    "model.fit(train_pool, eval_set=validation_pool);"
   ]
  },
  {
   "cell_type": "markdown",
   "id": "50bc1edb",
   "metadata": {},
   "source": [
    "### Metrics calculation and graph plotting"
   ]
  },
  {
   "cell_type": "code",
   "execution_count": 29,
   "id": "22d1d761",
   "metadata": {},
   "outputs": [
    {
     "data": {
      "application/vnd.jupyter.widget-view+json": {
       "model_id": "e3ea9b67e3df41a2943dad9228fbe0a9",
       "version_major": 2,
       "version_minor": 0
      },
      "text/plain": [
       "MetricVisualizer(layout=Layout(align_self='stretch', height='500px'))"
      ]
     },
     "metadata": {},
     "output_type": "display_data"
    }
   ],
   "source": [
    "model = CatBoostClassifier(\n",
    "    iterations=50,\n",
    "    learning_rate=0.5,\n",
    "    custom_loss=['AUC', 'Accuracy']\n",
    ")\n",
    "\n",
    "model.fit(\n",
    "    train_pool,\n",
    "    eval_set=validation_pool,\n",
    "    verbose=False,\n",
    "    plot=True\n",
    ");"
   ]
  },
  {
   "cell_type": "markdown",
   "id": "d88d8c3b",
   "metadata": {},
   "source": [
    "### Model comparison"
   ]
  },
  {
   "cell_type": "code",
   "execution_count": 32,
   "id": "1c2754dd",
   "metadata": {},
   "outputs": [],
   "source": [
    "from catboost import MetricVisualizer"
   ]
  },
  {
   "cell_type": "code",
   "execution_count": 30,
   "id": "7d5bb25a",
   "metadata": {},
   "outputs": [
    {
     "data": {
      "text/plain": [
       "<catboost.core.CatBoostClassifier at 0x28c856d6cb0>"
      ]
     },
     "execution_count": 30,
     "metadata": {},
     "output_type": "execute_result"
    }
   ],
   "source": [
    "model1 = CatBoostClassifier(\n",
    "    learning_rate=0.7,\n",
    "    iterations=100,\n",
    "    train_dir='learing_rate_0.7'\n",
    ")\n",
    "\n",
    "model2 = CatBoostClassifier(\n",
    "    learning_rate=0.01,\n",
    "    iterations=100,\n",
    "    train_dir='learing_rate_0.01'\n",
    ")\n",
    "\n",
    "model1.fit(train_pool, eval_set=validation_pool, verbose=False)\n",
    "model2.fit(train_pool, eval_set=validation_pool, verbose=False)"
   ]
  },
  {
   "cell_type": "code",
   "execution_count": 33,
   "id": "0546585a",
   "metadata": {},
   "outputs": [
    {
     "data": {
      "application/vnd.jupyter.widget-view+json": {
       "model_id": "369e7619d01446fa83f93194f5eb9118",
       "version_major": 2,
       "version_minor": 0
      },
      "text/plain": [
       "MetricVisualizer(layout=Layout(align_self='stretch', height='500px'))"
      ]
     },
     "metadata": {},
     "output_type": "display_data"
    }
   ],
   "source": [
    "MetricVisualizer(['learing_rate_0.7', 'learing_rate_0.01']).start()"
   ]
  },
  {
   "cell_type": "markdown",
   "id": "6f57cae7",
   "metadata": {},
   "source": [
    "### Best iteration"
   ]
  },
  {
   "cell_type": "code",
   "execution_count": 49,
   "id": "db43e966",
   "metadata": {},
   "outputs": [
    {
     "data": {
      "application/vnd.jupyter.widget-view+json": {
       "model_id": "1806455b50854d4fa02ec65f769f0568",
       "version_major": 2,
       "version_minor": 0
      },
      "text/plain": [
       "MetricVisualizer(layout=Layout(align_self='stretch', height='500px'))"
      ]
     },
     "metadata": {},
     "output_type": "display_data"
    },
    {
     "data": {
      "text/plain": [
       "<catboost.core.CatBoostClassifier at 0x28c856d54b0>"
      ]
     },
     "execution_count": 49,
     "metadata": {},
     "output_type": "execute_result"
    }
   ],
   "source": [
    "model = CatBoostClassifier(\n",
    "    iterations=200,\n",
    "#    use_best_model=False\n",
    ")\n",
    "\n",
    "model.fit(\n",
    "    train_pool,\n",
    "    eval_set=validation_pool,\n",
    "    verbose=False,\n",
    "    plot=True\n",
    ")"
   ]
  },
  {
   "cell_type": "code",
   "execution_count": 50,
   "id": "952780de",
   "metadata": {},
   "outputs": [
    {
     "name": "stdout",
     "output_type": "stream",
     "text": [
      "Tree count: 187\n"
     ]
    }
   ],
   "source": [
    "print('Tree count: ' + str(model.tree_count_))"
   ]
  },
  {
   "cell_type": "markdown",
   "id": "de1929ce",
   "metadata": {},
   "source": [
    "### Cross-validation"
   ]
  },
  {
   "cell_type": "code",
   "execution_count": 51,
   "id": "6927b68a",
   "metadata": {},
   "outputs": [],
   "source": [
    "from catboost import cv"
   ]
  },
  {
   "cell_type": "code",
   "execution_count": 52,
   "id": "2408da31",
   "metadata": {},
   "outputs": [],
   "source": [
    "params = {\n",
    "    'loss_function': 'Logloss',\n",
    "    'iterations': 80,\n",
    "    'custom_loss': 'AUC',\n",
    "    'learning_rate': 0.5,\n",
    "}"
   ]
  },
  {
   "cell_type": "markdown",
   "id": "eb95ec06",
   "metadata": {},
   "source": [
    "**Non stratified**"
   ]
  },
  {
   "cell_type": "code",
   "execution_count": 53,
   "id": "4959edde",
   "metadata": {},
   "outputs": [
    {
     "data": {
      "application/vnd.jupyter.widget-view+json": {
       "model_id": "911d0b5136b14a8f99b65e8cf4251e73",
       "version_major": 2,
       "version_minor": 0
      },
      "text/plain": [
       "MetricVisualizer(layout=Layout(align_self='stretch', height='500px'))"
      ]
     },
     "metadata": {},
     "output_type": "display_data"
    },
    {
     "name": "stdout",
     "output_type": "stream",
     "text": [
      "Training on fold [0/5]\n",
      "\n",
      "bestTest = 0.1566298641\n",
      "bestIteration = 22\n",
      "\n",
      "Training on fold [1/5]\n",
      "\n",
      "bestTest = 0.1662047348\n",
      "bestIteration = 31\n",
      "\n",
      "Training on fold [2/5]\n",
      "\n",
      "bestTest = 0.1569414511\n",
      "bestIteration = 46\n",
      "\n",
      "Training on fold [3/5]\n",
      "\n",
      "bestTest = 0.1618021561\n",
      "bestIteration = 30\n",
      "\n",
      "Training on fold [4/5]\n",
      "\n",
      "bestTest = 0.1671706304\n",
      "bestIteration = 14\n",
      "\n"
     ]
    }
   ],
   "source": [
    "cv_data = cv(\n",
    "    params = params,\n",
    "    pool = train_pool,\n",
    "    fold_count=5,\n",
    "    shuffle=True,\n",
    "    partition_random_seed=32,\n",
    "    plot=True,\n",
    "    verbose=False\n",
    ")"
   ]
  },
  {
   "cell_type": "code",
   "execution_count": 54,
   "id": "0e6aaed3",
   "metadata": {},
   "outputs": [
    {
     "data": {
      "text/html": [
       "<div>\n",
       "<style scoped>\n",
       "    .dataframe tbody tr th:only-of-type {\n",
       "        vertical-align: middle;\n",
       "    }\n",
       "\n",
       "    .dataframe tbody tr th {\n",
       "        vertical-align: top;\n",
       "    }\n",
       "\n",
       "    .dataframe thead th {\n",
       "        text-align: right;\n",
       "    }\n",
       "</style>\n",
       "<table border=\"1\" class=\"dataframe\">\n",
       "  <thead>\n",
       "    <tr style=\"text-align: right;\">\n",
       "      <th></th>\n",
       "      <th>iterations</th>\n",
       "      <th>test-Logloss-mean</th>\n",
       "      <th>test-Logloss-std</th>\n",
       "      <th>train-Logloss-mean</th>\n",
       "      <th>train-Logloss-std</th>\n",
       "      <th>test-AUC-mean</th>\n",
       "      <th>test-AUC-std</th>\n",
       "    </tr>\n",
       "  </thead>\n",
       "  <tbody>\n",
       "    <tr>\n",
       "      <th>0</th>\n",
       "      <td>0</td>\n",
       "      <td>0.300392</td>\n",
       "      <td>0.001660</td>\n",
       "      <td>0.300370</td>\n",
       "      <td>0.001694</td>\n",
       "      <td>0.487877</td>\n",
       "      <td>0.005842</td>\n",
       "    </tr>\n",
       "    <tr>\n",
       "      <th>1</th>\n",
       "      <td>1</td>\n",
       "      <td>0.227480</td>\n",
       "      <td>0.004729</td>\n",
       "      <td>0.228986</td>\n",
       "      <td>0.003496</td>\n",
       "      <td>0.604238</td>\n",
       "      <td>0.057093</td>\n",
       "    </tr>\n",
       "    <tr>\n",
       "      <th>2</th>\n",
       "      <td>2</td>\n",
       "      <td>0.190768</td>\n",
       "      <td>0.001869</td>\n",
       "      <td>0.197501</td>\n",
       "      <td>0.001366</td>\n",
       "      <td>0.759654</td>\n",
       "      <td>0.028037</td>\n",
       "    </tr>\n",
       "    <tr>\n",
       "      <th>3</th>\n",
       "      <td>3</td>\n",
       "      <td>0.178391</td>\n",
       "      <td>0.002710</td>\n",
       "      <td>0.185944</td>\n",
       "      <td>0.000822</td>\n",
       "      <td>0.795903</td>\n",
       "      <td>0.022081</td>\n",
       "    </tr>\n",
       "    <tr>\n",
       "      <th>4</th>\n",
       "      <td>4</td>\n",
       "      <td>0.173058</td>\n",
       "      <td>0.003133</td>\n",
       "      <td>0.180950</td>\n",
       "      <td>0.001339</td>\n",
       "      <td>0.808126</td>\n",
       "      <td>0.019280</td>\n",
       "    </tr>\n",
       "    <tr>\n",
       "      <th>5</th>\n",
       "      <td>5</td>\n",
       "      <td>0.169896</td>\n",
       "      <td>0.003995</td>\n",
       "      <td>0.177944</td>\n",
       "      <td>0.001305</td>\n",
       "      <td>0.820367</td>\n",
       "      <td>0.016668</td>\n",
       "    </tr>\n",
       "    <tr>\n",
       "      <th>6</th>\n",
       "      <td>6</td>\n",
       "      <td>0.167679</td>\n",
       "      <td>0.003824</td>\n",
       "      <td>0.175530</td>\n",
       "      <td>0.000716</td>\n",
       "      <td>0.830642</td>\n",
       "      <td>0.010800</td>\n",
       "    </tr>\n",
       "    <tr>\n",
       "      <th>7</th>\n",
       "      <td>7</td>\n",
       "      <td>0.166516</td>\n",
       "      <td>0.003928</td>\n",
       "      <td>0.173947</td>\n",
       "      <td>0.000576</td>\n",
       "      <td>0.833412</td>\n",
       "      <td>0.009532</td>\n",
       "    </tr>\n",
       "    <tr>\n",
       "      <th>8</th>\n",
       "      <td>8</td>\n",
       "      <td>0.165369</td>\n",
       "      <td>0.003787</td>\n",
       "      <td>0.172408</td>\n",
       "      <td>0.000428</td>\n",
       "      <td>0.836627</td>\n",
       "      <td>0.010023</td>\n",
       "    </tr>\n",
       "    <tr>\n",
       "      <th>9</th>\n",
       "      <td>9</td>\n",
       "      <td>0.164642</td>\n",
       "      <td>0.003739</td>\n",
       "      <td>0.171468</td>\n",
       "      <td>0.000606</td>\n",
       "      <td>0.838087</td>\n",
       "      <td>0.008911</td>\n",
       "    </tr>\n",
       "  </tbody>\n",
       "</table>\n",
       "</div>"
      ],
      "text/plain": [
       "   iterations  test-Logloss-mean  test-Logloss-std  train-Logloss-mean  \\\n",
       "0           0           0.300392          0.001660            0.300370   \n",
       "1           1           0.227480          0.004729            0.228986   \n",
       "2           2           0.190768          0.001869            0.197501   \n",
       "3           3           0.178391          0.002710            0.185944   \n",
       "4           4           0.173058          0.003133            0.180950   \n",
       "5           5           0.169896          0.003995            0.177944   \n",
       "6           6           0.167679          0.003824            0.175530   \n",
       "7           7           0.166516          0.003928            0.173947   \n",
       "8           8           0.165369          0.003787            0.172408   \n",
       "9           9           0.164642          0.003739            0.171468   \n",
       "\n",
       "   train-Logloss-std  test-AUC-mean  test-AUC-std  \n",
       "0           0.001694       0.487877      0.005842  \n",
       "1           0.003496       0.604238      0.057093  \n",
       "2           0.001366       0.759654      0.028037  \n",
       "3           0.000822       0.795903      0.022081  \n",
       "4           0.001339       0.808126      0.019280  \n",
       "5           0.001305       0.820367      0.016668  \n",
       "6           0.000716       0.830642      0.010800  \n",
       "7           0.000576       0.833412      0.009532  \n",
       "8           0.000428       0.836627      0.010023  \n",
       "9           0.000606       0.838087      0.008911  "
      ]
     },
     "execution_count": 54,
     "metadata": {},
     "output_type": "execute_result"
    }
   ],
   "source": [
    "cv_data.head(10)"
   ]
  },
  {
   "cell_type": "code",
   "execution_count": 56,
   "id": "d8d8d24c",
   "metadata": {},
   "outputs": [
    {
     "name": "stdout",
     "output_type": "stream",
     "text": [
      "Best validation Logloss score, non stratified: 0.1626±0.0052 on step 25\n"
     ]
    }
   ],
   "source": [
    "best_value = np.min(cv_data['test-Logloss-mean'])\n",
    "best_iter = np.argmin(cv_data['test-Logloss-mean'])\n",
    "\n",
    "print('Best validation Logloss score, non stratified: {:.4f}±{:.4f} on step {}'.format(\n",
    "    best_value,\n",
    "    cv_data['test-Logloss-std'][best_iter],\n",
    "    best_iter)\n",
    ")"
   ]
  },
  {
   "cell_type": "markdown",
   "id": "942032f0",
   "metadata": {},
   "source": [
    "**Stratified**"
   ]
  },
  {
   "cell_type": "code",
   "execution_count": 57,
   "id": "e5834794",
   "metadata": {},
   "outputs": [
    {
     "data": {
      "application/vnd.jupyter.widget-view+json": {
       "model_id": "a782bd29f137433aba331cb869d9a839",
       "version_major": 2,
       "version_minor": 0
      },
      "text/plain": [
       "MetricVisualizer(layout=Layout(align_self='stretch', height='500px'))"
      ]
     },
     "metadata": {},
     "output_type": "display_data"
    },
    {
     "name": "stdout",
     "output_type": "stream",
     "text": [
      "Training on fold [0/5]\n",
      "\n",
      "bestTest = 0.1563838471\n",
      "bestIteration = 24\n",
      "\n",
      "Training on fold [1/5]\n",
      "\n",
      "bestTest = 0.1733682387\n",
      "bestIteration = 31\n",
      "\n",
      "Training on fold [2/5]\n",
      "\n",
      "bestTest = 0.1561868359\n",
      "bestIteration = 41\n",
      "\n",
      "Training on fold [3/5]\n",
      "\n",
      "bestTest = 0.1505708512\n",
      "bestIteration = 50\n",
      "\n",
      "Training on fold [4/5]\n",
      "\n",
      "bestTest = 0.169566106\n",
      "bestIteration = 44\n",
      "\n"
     ]
    }
   ],
   "source": [
    "cv_data = cv(\n",
    "    params = params,\n",
    "    pool = train_pool,\n",
    "    fold_count=5,\n",
    "    shuffle=True,\n",
    "    partition_random_seed=32,\n",
    "    plot=True,\n",
    "    stratified=False,\n",
    "    verbose=False\n",
    ")"
   ]
  },
  {
   "cell_type": "code",
   "execution_count": 58,
   "id": "82492735",
   "metadata": {},
   "outputs": [
    {
     "name": "stdout",
     "output_type": "stream",
     "text": [
      "Best validation Logloss score, stratified: 0.1622±0.0096 on step 30\n"
     ]
    }
   ],
   "source": [
    "best_value = cv_data['test-Logloss-mean'].min()\n",
    "best_iter = cv_data['test-Logloss-mean'].values.argmin()\n",
    "\n",
    "print('Best validation Logloss score, stratified: {:.4f}±{:.4f} on step {}'.format(\n",
    "    best_value,\n",
    "    cv_data['test-Logloss-std'][best_iter],\n",
    "    best_iter)\n",
    ")"
   ]
  },
  {
   "cell_type": "markdown",
   "id": "59cee73e",
   "metadata": {},
   "source": [
    "### Overfitting Detector"
   ]
  },
  {
   "cell_type": "code",
   "execution_count": 59,
   "id": "f1ca5e7f",
   "metadata": {},
   "outputs": [
    {
     "data": {
      "application/vnd.jupyter.widget-view+json": {
       "model_id": "8aa10e58fc424ccaacb957a6cc1e4ad9",
       "version_major": 2,
       "version_minor": 0
      },
      "text/plain": [
       "MetricVisualizer(layout=Layout(align_self='stretch', height='500px'))"
      ]
     },
     "metadata": {},
     "output_type": "display_data"
    },
    {
     "data": {
      "text/plain": [
       "<catboost.core.CatBoostClassifier at 0x28c85433580>"
      ]
     },
     "execution_count": 59,
     "metadata": {},
     "output_type": "execute_result"
    }
   ],
   "source": [
    "model_with_early_stop = CatBoostClassifier(\n",
    "    iterations=200,\n",
    "    learning_rate=0.5,\n",
    "    early_stopping_rounds=20\n",
    ")\n",
    "\n",
    "model_with_early_stop.fit(\n",
    "    train_pool,\n",
    "    eval_set=validation_pool,\n",
    "    verbose=False,\n",
    "    plot=True\n",
    ")"
   ]
  },
  {
   "cell_type": "code",
   "execution_count": 60,
   "id": "c01fd5f8",
   "metadata": {},
   "outputs": [
    {
     "name": "stdout",
     "output_type": "stream",
     "text": [
      "41\n"
     ]
    }
   ],
   "source": [
    "print(model_with_early_stop.tree_count_)"
   ]
  },
  {
   "cell_type": "markdown",
   "id": "5b210158",
   "metadata": {},
   "source": [
    "**Overfitting Detector with eval metric**"
   ]
  },
  {
   "cell_type": "code",
   "execution_count": 61,
   "id": "92d9d2d1",
   "metadata": {},
   "outputs": [
    {
     "data": {
      "application/vnd.jupyter.widget-view+json": {
       "model_id": "f9c013a37ce2442f865aeab5113522aa",
       "version_major": 2,
       "version_minor": 0
      },
      "text/plain": [
       "MetricVisualizer(layout=Layout(align_self='stretch', height='500px'))"
      ]
     },
     "metadata": {},
     "output_type": "display_data"
    },
    {
     "data": {
      "text/plain": [
       "<catboost.core.CatBoostClassifier at 0x28c85432020>"
      ]
     },
     "execution_count": 61,
     "metadata": {},
     "output_type": "execute_result"
    }
   ],
   "source": [
    "model_with_early_stop = CatBoostClassifier(\n",
    "    eval_metric='AUC',\n",
    "    iterations=200,\n",
    "    learning_rate=0.5,\n",
    "    early_stopping_rounds=20\n",
    ")\n",
    "model_with_early_stop.fit(\n",
    "    train_pool,\n",
    "    eval_set=validation_pool,\n",
    "    verbose=False,\n",
    "    plot=True\n",
    ")"
   ]
  },
  {
   "cell_type": "code",
   "execution_count": 62,
   "id": "bc4e4605",
   "metadata": {},
   "outputs": [
    {
     "name": "stdout",
     "output_type": "stream",
     "text": [
      "41\n"
     ]
    }
   ],
   "source": [
    "print(model_with_early_stop.tree_count_)"
   ]
  },
  {
   "cell_type": "markdown",
   "id": "3b7b896c",
   "metadata": {},
   "source": [
    "### Hyperparameter tuning"
   ]
  },
  {
   "cell_type": "code",
   "execution_count": 63,
   "id": "7446d9f5",
   "metadata": {},
   "outputs": [],
   "source": [
    "from sklearn.model_selection import GridSearchCV"
   ]
  },
  {
   "cell_type": "code",
   "execution_count": 64,
   "id": "787e8b17",
   "metadata": {},
   "outputs": [],
   "source": [
    "param_grid = {\n",
    "    \"learning_rate\": [0.001, 0.01, 0.5],\n",
    "}\n",
    "\n",
    "clf = CatBoostClassifier(\n",
    "    iterations=20, \n",
    "    cat_features=cat_features, \n",
    "    verbose=20\n",
    ")"
   ]
  },
  {
   "cell_type": "code",
   "execution_count": 65,
   "id": "c07fe3a7",
   "metadata": {},
   "outputs": [
    {
     "name": "stdout",
     "output_type": "stream",
     "text": [
      "0:\tlearn: 0.6923611\ttotal: 30.2ms\tremaining: 574ms\n",
      "19:\tlearn: 0.6777406\ttotal: 761ms\tremaining: 0us\n",
      "0:\tlearn: 0.6923613\ttotal: 22.9ms\tremaining: 435ms\n",
      "19:\tlearn: 0.6777461\ttotal: 704ms\tremaining: 0us\n",
      "0:\tlearn: 0.6923616\ttotal: 21.9ms\tremaining: 415ms\n",
      "19:\tlearn: 0.6777497\ttotal: 819ms\tremaining: 0us\n",
      "0:\tlearn: 0.6923612\ttotal: 31.8ms\tremaining: 605ms\n",
      "19:\tlearn: 0.6777483\ttotal: 720ms\tremaining: 0us\n",
      "0:\tlearn: 0.6923615\ttotal: 30.8ms\tremaining: 586ms\n",
      "19:\tlearn: 0.6777483\ttotal: 678ms\tremaining: 0us\n",
      "0:\tlearn: 0.6853219\ttotal: 35ms\tremaining: 665ms\n",
      "19:\tlearn: 0.5620841\ttotal: 768ms\tremaining: 0us\n",
      "0:\tlearn: 0.6853235\ttotal: 19.1ms\tremaining: 363ms\n",
      "19:\tlearn: 0.5621273\ttotal: 760ms\tremaining: 0us\n",
      "0:\tlearn: 0.6853268\ttotal: 23.3ms\tremaining: 443ms\n",
      "19:\tlearn: 0.5621562\ttotal: 833ms\tremaining: 0us\n",
      "0:\tlearn: 0.6853227\ttotal: 25.4ms\tremaining: 483ms\n",
      "19:\tlearn: 0.5621473\ttotal: 660ms\tremaining: 0us\n",
      "0:\tlearn: 0.6853258\ttotal: 55.1ms\tremaining: 1.05s\n",
      "19:\tlearn: 0.5621545\ttotal: 805ms\tremaining: 0us\n",
      "0:\tlearn: 0.3950537\ttotal: 20.7ms\tremaining: 393ms\n",
      "19:\tlearn: 0.1700072\ttotal: 1.07s\tremaining: 0us\n",
      "0:\tlearn: 0.3951159\ttotal: 19.6ms\tremaining: 373ms\n",
      "19:\tlearn: 0.1727945\ttotal: 1.02s\tremaining: 0us\n",
      "0:\tlearn: 0.3952456\ttotal: 22.6ms\tremaining: 430ms\n",
      "19:\tlearn: 0.1727175\ttotal: 969ms\tremaining: 0us\n",
      "0:\tlearn: 0.3950877\ttotal: 25.9ms\tremaining: 492ms\n",
      "19:\tlearn: 0.1737298\ttotal: 1.08s\tremaining: 0us\n",
      "0:\tlearn: 0.3952080\ttotal: 26.1ms\tremaining: 496ms\n",
      "19:\tlearn: 0.1681803\ttotal: 1.09s\tremaining: 0us\n",
      "0:\tlearn: 0.3952812\ttotal: 64.7ms\tremaining: 1.23s\n",
      "19:\tlearn: 0.1686742\ttotal: 1.15s\tremaining: 0us\n"
     ]
    }
   ],
   "source": [
    "grid_search = GridSearchCV(clf, param_grid=param_grid, cv=5)\n",
    "\n",
    "results = grid_search.fit(X_train, y_train)"
   ]
  },
  {
   "cell_type": "code",
   "execution_count": 66,
   "id": "48851fe5",
   "metadata": {},
   "outputs": [
    {
     "data": {
      "text/plain": [
       "{'iterations': 20,\n",
       " 'learning_rate': 0.5,\n",
       " 'verbose': 20,\n",
       " 'cat_features': [0, 1, 2, 3, 4, 5, 6, 7, 8]}"
      ]
     },
     "execution_count": 66,
     "metadata": {},
     "output_type": "execute_result"
    }
   ],
   "source": [
    "results.best_estimator_.get_params()"
   ]
  },
  {
   "cell_type": "markdown",
   "id": "3daea011",
   "metadata": {},
   "source": [
    "### Model predictions"
   ]
  },
  {
   "cell_type": "code",
   "execution_count": 67,
   "id": "d6469248",
   "metadata": {},
   "outputs": [
    {
     "name": "stdout",
     "output_type": "stream",
     "text": [
      "0:\tlearn: 0.6568584\ttotal: 38.3ms\tremaining: 7.62s\n",
      "50:\tlearn: 0.1925870\ttotal: 2.86s\tremaining: 8.37s\n",
      "100:\tlearn: 0.1623657\ttotal: 6.13s\tremaining: 6.01s\n",
      "150:\tlearn: 0.1562104\ttotal: 9.52s\tremaining: 3.09s\n",
      "199:\tlearn: 0.1522910\ttotal: 13.1s\tremaining: 0us\n"
     ]
    }
   ],
   "source": [
    "model = CatBoostClassifier(iterations=200, learning_rate=0.03)\n",
    "model.fit(train_pool, verbose=50);"
   ]
  },
  {
   "cell_type": "code",
   "execution_count": 69,
   "id": "1c01fb2b",
   "metadata": {},
   "outputs": [
    {
     "name": "stdout",
     "output_type": "stream",
     "text": [
      "[1 1 1 ... 1 1 1]\n"
     ]
    }
   ],
   "source": [
    "print(model.predict(X_test))"
   ]
  },
  {
   "cell_type": "code",
   "execution_count": 70,
   "id": "55c2664b",
   "metadata": {},
   "outputs": [
    {
     "name": "stdout",
     "output_type": "stream",
     "text": [
      "[[0.0144 0.9856]\n",
      " [0.0074 0.9926]\n",
      " [0.0289 0.9711]\n",
      " ...\n",
      " [0.0348 0.9652]\n",
      " [0.0471 0.9529]\n",
      " [0.3269 0.6731]]\n"
     ]
    }
   ],
   "source": [
    "print(model.predict_proba(X_test))"
   ]
  },
  {
   "cell_type": "code",
   "execution_count": 71,
   "id": "6c63f771",
   "metadata": {},
   "outputs": [
    {
     "name": "stdout",
     "output_type": "stream",
     "text": [
      "[4.2261 4.8966 3.5134 ... 3.3241 3.0072 0.7222]\n"
     ]
    }
   ],
   "source": [
    "raw_pred = model.predict(\n",
    "    X_test,\n",
    "    prediction_type='RawFormulaVal'\n",
    ")\n",
    "\n",
    "print(raw_pred)"
   ]
  },
  {
   "cell_type": "code",
   "execution_count": 72,
   "id": "58daa173",
   "metadata": {},
   "outputs": [
    {
     "name": "stdout",
     "output_type": "stream",
     "text": [
      "[0.9856 0.9926 0.9711 ... 0.9652 0.9529 0.6731]\n"
     ]
    }
   ],
   "source": [
    "from numpy import exp\n",
    "\n",
    "sigmoid = lambda x: 1 / (1 + exp(-x))\n",
    "\n",
    "probabilities = sigmoid(raw_pred)\n",
    "\n",
    "print(probabilities)"
   ]
  },
  {
   "cell_type": "code",
   "execution_count": 73,
   "id": "eb8f411a",
   "metadata": {},
   "outputs": [],
   "source": [
    "import matplotlib.pyplot as plt\n",
    "from catboost.utils import get_roc_curve\n",
    "from catboost.utils import get_fpr_curve\n",
    "from catboost.utils import get_fnr_curve\n",
    "\n",
    "curve = get_roc_curve(model, validation_pool)\n",
    "(fpr, tpr, thresholds) = curve\n",
    "\n",
    "(thresholds, fpr) = get_fpr_curve(curve=curve)\n",
    "(thresholds, fnr) = get_fnr_curve(curve=curve)"
   ]
  },
  {
   "cell_type": "code",
   "execution_count": 76,
   "id": "9ac4af87",
   "metadata": {},
   "outputs": [
    {
     "data": {
      "image/png": "[encoded data removed]",
      "text/plain": [
       "<Figure size 864x432 with 1 Axes>"
      ]
     },
     "metadata": {
      "needs_background": "light"
     },
     "output_type": "display_data"
    }
   ],
   "source": [
    "plt.figure(figsize=(12, 6))\n",
    "style = {'alpha':0.5, 'lw':2}\n",
    "\n",
    "plt.plot(thresholds, fpr, color='blue', label='FPR', **style)\n",
    "plt.plot(thresholds, fnr, color='green', label='FNR', **style)\n",
    "\n",
    "plt.xlim([0.0, 1.0])\n",
    "plt.ylim([0.0, 1.05])\n",
    "plt.xticks(fontsize=16)\n",
    "plt.yticks(fontsize=16)\n",
    "plt.grid(True)\n",
    "plt.xlabel('Threshold', fontsize=16)\n",
    "plt.ylabel('Error Rate', fontsize=16)\n",
    "plt.title('FPR-FNR curves', fontsize=20)\n",
    "plt.legend(loc=\"lower left\", fontsize=16);"
   ]
  },
  {
   "cell_type": "code",
   "execution_count": 77,
   "id": "b1ccc31b",
   "metadata": {},
   "outputs": [
    {
     "name": "stdout",
     "output_type": "stream",
     "text": [
      "0.5644728090717929\n",
      "0.9913212132694214\n"
     ]
    }
   ],
   "source": [
    "from catboost.utils import select_threshold\n",
    "\n",
    "print(select_threshold(model, validation_pool, FNR=0.01))\n",
    "print(select_threshold(model, validation_pool, FPR=0.01))"
   ]
  },
  {
   "cell_type": "code",
   "execution_count": 78,
   "id": "6c73bb87",
   "metadata": {},
   "outputs": [
    {
     "data": {
      "application/vnd.jupyter.widget-view+json": {
       "model_id": "cfd3fae2fb0745548f0c352d075f7348",
       "version_major": 2,
       "version_minor": 0
      },
      "text/plain": [
       "MetricVisualizer(layout=Layout(align_self='stretch', height='500px'))"
      ]
     },
     "metadata": {},
     "output_type": "display_data"
    }
   ],
   "source": [
    "metrics = model.eval_metrics(\n",
    "    data=validation_pool,\n",
    "    metrics=['Logloss','AUC'],\n",
    "    ntree_start=0,\n",
    "    ntree_end=0,\n",
    "    eval_period=1,\n",
    "    plot=True\n",
    ")"
   ]
  },
  {
   "cell_type": "code",
   "execution_count": 79,
   "id": "b95ddf3d",
   "metadata": {},
   "outputs": [
    {
     "name": "stdout",
     "output_type": "stream",
     "text": [
      "AUC values:\n",
      "[0.5248 0.627  0.6406 0.6406 0.6415 0.6411 0.6411 0.6405 0.6405 0.6456\n",
      " 0.6456 0.6443 0.6498 0.6498 0.649  0.6531 0.6491 0.6554 0.6592 0.6897\n",
      " 0.6897 0.6962 0.6962 0.6962 0.7167 0.7215 0.7344 0.7387 0.74   0.755\n",
      " 0.755  0.7702 0.786  0.8015 0.8073 0.8169 0.8191 0.8224 0.8253 0.8293\n",
      " 0.8297 0.8299 0.8322 0.8323 0.8321 0.8327 0.8338 0.8334 0.8335 0.8333\n",
      " 0.8333 0.8337 0.8343 0.8342 0.8355 0.8364 0.8368 0.837  0.8377 0.8378\n",
      " 0.8383 0.8385 0.8395 0.8405 0.841  0.8411 0.8411 0.8412 0.8415 0.8414\n",
      " 0.8414 0.8444 0.8464 0.8482 0.8495 0.8507 0.8509 0.8517 0.8528 0.8533\n",
      " 0.8538 0.8559 0.8574 0.86   0.8619 0.8634 0.8646 0.8655 0.8668 0.8678\n",
      " 0.8686 0.8694 0.8699 0.8697 0.8697 0.87   0.8704 0.871  0.8715 0.8717\n",
      " 0.872  0.8722 0.8724 0.8728 0.8728 0.8731 0.8735 0.8735 0.8738 0.8739\n",
      " 0.8737 0.8739 0.874  0.874  0.8741 0.8741 0.874  0.8741 0.8742 0.8744\n",
      " 0.8747 0.8749 0.875  0.8751 0.8753 0.8755 0.8759 0.876  0.8761 0.8761\n",
      " 0.8761 0.8762 0.8763 0.8767 0.8766 0.8767 0.8766 0.8766 0.8767 0.8767\n",
      " 0.8768 0.8769 0.8769 0.877  0.877  0.8769 0.877  0.8771 0.8772 0.8772\n",
      " 0.8775 0.8775 0.8774 0.8774 0.8776 0.8776 0.8775 0.8776 0.8776 0.8777\n",
      " 0.8778 0.8777 0.8777 0.8778 0.8778 0.878  0.878  0.8781 0.878  0.8781\n",
      " 0.8782 0.8783 0.8784 0.8784 0.8784 0.8786 0.8787 0.8787 0.8788 0.8788\n",
      " 0.8791 0.8791 0.8791 0.8792 0.8793 0.8793 0.8793 0.8793 0.8794 0.8795\n",
      " 0.8796 0.8795 0.8798 0.8798 0.8798 0.8798 0.8798 0.8798 0.8798 0.8798]\n"
     ]
    }
   ],
   "source": [
    "print('AUC values:\\n{}'.format(np.array(metrics['AUC'])))\n"
   ]
  },
  {
   "cell_type": "markdown",
   "id": "0cd5fe76",
   "metadata": {},
   "source": [
    "### Feature importances\n",
    "\n",
    "**Prediction values change:**\n",
    "- Default feature importances for binary classification is PredictionValueChange - how much on average does the model change when the feature value changes. \n",
    "- These feature importances are non negative. \n",
    "- They are normalized and sum to 1, so you can look on these values like percentage of importance."
   ]
  },
  {
   "cell_type": "code",
   "execution_count": 80,
   "id": "16105d3f",
   "metadata": {},
   "outputs": [
    {
     "data": {
      "text/plain": [
       "array([['RESOURCE', 24.653154441209242],\n",
       "       ['ROLE_DEPTNAME', 16.894406008166353],\n",
       "       ['MGR_ID', 16.072067437188117],\n",
       "       ['ROLE_CODE', 12.00013083695185],\n",
       "       ['ROLE_ROLLUP_2', 7.727095864480384],\n",
       "       ['ROLE_FAMILY_DESC', 6.8563077663271725],\n",
       "       ['ROLE_FAMILY', 6.590343495508479],\n",
       "       ['ROLE_TITLE', 4.635369035826631],\n",
       "       ['ROLE_ROLLUP_1', 4.571125114341639]], dtype=object)"
      ]
     },
     "execution_count": 80,
     "metadata": {},
     "output_type": "execute_result"
    }
   ],
   "source": [
    "np.array(model.get_feature_importance(prettified=True))"
   ]
  },
  {
   "cell_type": "markdown",
   "id": "0d5f1387",
   "metadata": {},
   "source": [
    "**Loss function change:**\n",
    "- The non default feature importance approximates how much the optimized loss function will change if the value of the feature changes. \n",
    "- This importances might be negative if the feature has bad influence on the loss function. \n",
    "- The importances are not normalized, the absolute value of the importance has the same scale as the optimized loss value. \n",
    "- To calculate this importance value you need to pass train_pool as an argument."
   ]
  },
  {
   "cell_type": "code",
   "execution_count": 81,
   "id": "f4ed43a4",
   "metadata": {},
   "outputs": [
    {
     "data": {
      "text/plain": [
       "array([['RESOURCE', 0.021776267716979145],\n",
       "       ['MGR_ID', 0.018649199037281662],\n",
       "       ['ROLE_DEPTNAME', 0.013826477716664919],\n",
       "       ['ROLE_CODE', 0.012269276883838946],\n",
       "       ['ROLE_FAMILY_DESC', 0.007470422555927919],\n",
       "       ['ROLE_ROLLUP_2', 0.002531278817883881],\n",
       "       ['ROLE_ROLLUP_1', 0.0011389634756994473],\n",
       "       ['ROLE_TITLE', 0.0006149941424949216],\n",
       "       ['ROLE_FAMILY', 0.00036779895360601844]], dtype=object)"
      ]
     },
     "execution_count": 81,
     "metadata": {},
     "output_type": "execute_result"
    }
   ],
   "source": [
    "np.array(model.get_feature_importance(\n",
    "    data=train_pool, \n",
    "    type='LossFunctionChange', \n",
    "    prettified=True\n",
    "))"
   ]
  },
  {
   "cell_type": "code",
   "execution_count": null,
   "id": "70350732",
   "metadata": {},
   "outputs": [],
   "source": []
  }
 ],
 "metadata": {
  "kernelspec": {
   "display_name": "Python 3 (ipykernel)",
   "language": "python",
   "name": "python3"
  },
  "language_info": {
   "codemirror_mode": {
    "name": "ipython",
    "version": 3
   },
   "file_extension": ".py",
   "mimetype": "text/x-python",
   "name": "python",
   "nbconvert_exporter": "python",
   "pygments_lexer": "ipython3",
   "version": "3.10.4"
  }
 },
 "nbformat": 4,
 "nbformat_minor": 5
}
